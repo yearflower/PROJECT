{
  "cells": [
    {
      "cell_type": "code",
      "source": [
        "pip install haversine"
      ],
      "metadata": {
        "colab": {
          "base_uri": "https://localhost:8080/"
        },
        "id": "iEBSs8uVsOpj",
        "outputId": "37065149-e51b-41dd-c1ac-c01fff8e8966"
      },
      "execution_count": null,
      "outputs": [
        {
          "output_type": "stream",
          "name": "stdout",
          "text": [
            "Looking in indexes: https://pypi.org/simple, https://us-python.pkg.dev/colab-wheels/public/simple/\n",
            "Collecting haversine\n",
            "  Downloading haversine-2.7.0-py2.py3-none-any.whl (6.9 kB)\n",
            "Installing collected packages: haversine\n",
            "Successfully installed haversine-2.7.0\n"
          ]
        }
      ]
    },
    {
      "cell_type": "code",
      "source": [
        "pip install konlpy"
      ],
      "metadata": {
        "colab": {
          "base_uri": "https://localhost:8080/"
        },
        "id": "RwdhL6Hs3n0Z",
        "outputId": "22b7fff5-6125-4f5b-acff-394186705b54"
      },
      "execution_count": null,
      "outputs": [
        {
          "output_type": "stream",
          "name": "stdout",
          "text": [
            "Looking in indexes: https://pypi.org/simple, https://us-python.pkg.dev/colab-wheels/public/simple/\n",
            "Collecting konlpy\n",
            "  Downloading konlpy-0.6.0-py2.py3-none-any.whl (19.4 MB)\n",
            "\u001b[2K     \u001b[90m━━━━━━━━━━━━━━━━━━━━━━━━━━━━━━━━━━━━━━━━\u001b[0m \u001b[32m19.4/19.4 MB\u001b[0m \u001b[31m17.8 MB/s\u001b[0m eta \u001b[36m0:00:00\u001b[0m\n",
            "\u001b[?25hRequirement already satisfied: lxml>=4.1.0 in /usr/local/lib/python3.8/dist-packages (from konlpy) (4.9.2)\n",
            "Requirement already satisfied: numpy>=1.6 in /usr/local/lib/python3.8/dist-packages (from konlpy) (1.21.6)\n",
            "Collecting JPype1>=0.7.0\n",
            "  Downloading JPype1-1.4.1-cp38-cp38-manylinux_2_12_x86_64.manylinux2010_x86_64.whl (465 kB)\n",
            "\u001b[2K     \u001b[90m━━━━━━━━━━━━━━━━━━━━━━━━━━━━━━━━━━━━━━\u001b[0m \u001b[32m465.6/465.6 KB\u001b[0m \u001b[31m24.6 MB/s\u001b[0m eta \u001b[36m0:00:00\u001b[0m\n",
            "\u001b[?25hRequirement already satisfied: packaging in /usr/local/lib/python3.8/dist-packages (from JPype1>=0.7.0->konlpy) (21.3)\n",
            "Requirement already satisfied: pyparsing!=3.0.5,>=2.0.2 in /usr/local/lib/python3.8/dist-packages (from packaging->JPype1>=0.7.0->konlpy) (3.0.9)\n",
            "Installing collected packages: JPype1, konlpy\n",
            "Successfully installed JPype1-1.4.1 konlpy-0.6.0\n"
          ]
        }
      ]
    },
    {
      "cell_type": "code",
      "source": [
        "pip install folium"
      ],
      "metadata": {
        "colab": {
          "base_uri": "https://localhost:8080/"
        },
        "id": "xXeK24t5LW2Q",
        "outputId": "736d5c75-fbb6-4074-902f-1ab0c3887929"
      },
      "execution_count": null,
      "outputs": [
        {
          "output_type": "stream",
          "name": "stdout",
          "text": [
            "Looking in indexes: https://pypi.org/simple, https://us-python.pkg.dev/colab-wheels/public/simple/\n",
            "Requirement already satisfied: folium in /usr/local/lib/python3.8/dist-packages (0.12.1.post1)\n",
            "Requirement already satisfied: branca>=0.3.0 in /usr/local/lib/python3.8/dist-packages (from folium) (0.6.0)\n",
            "Requirement already satisfied: numpy in /usr/local/lib/python3.8/dist-packages (from folium) (1.21.6)\n",
            "Requirement already satisfied: requests in /usr/local/lib/python3.8/dist-packages (from folium) (2.25.1)\n",
            "Requirement already satisfied: jinja2>=2.9 in /usr/local/lib/python3.8/dist-packages (from folium) (2.11.3)\n",
            "Requirement already satisfied: MarkupSafe>=0.23 in /usr/local/lib/python3.8/dist-packages (from jinja2>=2.9->folium) (2.0.1)\n",
            "Requirement already satisfied: urllib3<1.27,>=1.21.1 in /usr/local/lib/python3.8/dist-packages (from requests->folium) (1.24.3)\n",
            "Requirement already satisfied: certifi>=2017.4.17 in /usr/local/lib/python3.8/dist-packages (from requests->folium) (2022.12.7)\n",
            "Requirement already satisfied: idna<3,>=2.5 in /usr/local/lib/python3.8/dist-packages (from requests->folium) (2.10)\n",
            "Requirement already satisfied: chardet<5,>=3.0.2 in /usr/local/lib/python3.8/dist-packages (from requests->folium) (4.0.0)\n"
          ]
        }
      ]
    },
    {
      "cell_type": "code",
      "execution_count": null,
      "metadata": {
        "id": "2Swb7xyxStN2"
      },
      "outputs": [],
      "source": [
        "import pandas as pd\n",
        "import matplotlib.pyplot as plt\n",
        "import urllib.request\n",
        "from gensim.models.word2vec import Word2Vec\n",
        "from konlpy.tag import Okt\n",
        "from tqdm import tqdm\n",
        "from sklearn.metrics.pairwise import cosine_similarity\n",
        "from haversine import haversine\n",
        "from sklearn.preprocessing import StandardScaler\n",
        "import numpy as np\n",
        "import math\n",
        "import dataclasses\n",
        "import folium"
      ]
    },
    {
      "cell_type": "code",
      "source": [
        "from google.colab import drive\n",
        "drive.mount('/content/drive')"
      ],
      "metadata": {
        "colab": {
          "base_uri": "https://localhost:8080/"
        },
        "id": "voYvY8MnLhJo",
        "outputId": "f6610e27-7d84-47f9-9206-3607dcf1c43c"
      },
      "execution_count": null,
      "outputs": [
        {
          "output_type": "stream",
          "name": "stdout",
          "text": [
            "Mounted at /content/drive\n"
          ]
        }
      ]
    },
    {
      "cell_type": "code",
      "source": [
        "cafe_data= pd.read_excel('/content/drive/MyDrive/project_코스추천/data/자카드유사도 카페.xlsx')\n",
        "cafe = pd.read_excel('/content/drive/MyDrive/project_코스추천/data/cafe.xlsx')\n",
        "restaurant = pd.read_excel('/content/drive/MyDrive/project_코스추천/data/restaurant.xlsx')\n",
        "alcohol = pd.read_excel('/content/drive/MyDrive/project_코스추천/data/alcohol.xlsx')\n",
        "alcohol = alcohol.drop(['Unnamed: 0.1', 'Unnamed: 0.1.1', 'Unnamed: 0.1.1.1'], axis=1)\n",
        "alcohol = alcohol.drop(index=20)\n",
        "dist_rate = pd.read_excel('/content/drive/MyDrive/project_코스추천/data/dist_rate.xlsx')\n",
        "cafe_data=cafe_data[['mood', 'cafe_name', 'jac_sim']]\n",
        "cafe_dist=pd.read_excel('/content/drive/MyDrive/project_코스추천/data/카페 좌표.xlsx')\n"
      ],
      "metadata": {
        "id": "_g5Uhj7W5CMo"
      },
      "execution_count": null,
      "outputs": []
    },
    {
      "cell_type": "code",
      "source": [
        "# 결과창\n",
        "print(\"\"\"\n",
        "*********언어 기반 한남동 데이트 코스 추천*********\n",
        "\n",
        "[오늘의 분위기를 선택해 주세요!]\n",
        "\n",
        "1. 한적한 곳에서 여유를 즐기고 싶은 하루 🌿\n",
        "\n",
        "2. 맛있는 것만 잔뜩 먹고 싶은 하루 🍽️\n",
        "\n",
        "3. 인스타 감성, 힙한 곳에서 인생샷 남기고 싶은 하루 📷\n",
        "\n",
        "4. 알록달록, 아기자기한 곳에서 기분 전환 하고 싶은 하루 🌈\n",
        "\n",
        "5. 진부한 것 말고, 색다른 분위기를 경험하고 싶은 하루 💎\n",
        "\n",
        "6. 연인과 로맨틱한 데이트를 하고 싶은 하루 💝\n",
        "\n",
        "\"\"\")\n"
      ],
      "metadata": {
        "id": "RCuiIbh55PfL",
        "colab": {
          "base_uri": "https://localhost:8080/"
        },
        "outputId": "82971809-26a9-4c12-d199-7dcf12b8f32b"
      },
      "execution_count": null,
      "outputs": [
        {
          "output_type": "stream",
          "name": "stdout",
          "text": [
            "\n",
            "*********언어 기반 한남동 데이트 코스 추천*********\n",
            "\n",
            "[오늘의 분위기를 선택해 주세요!]\n",
            "\n",
            "1. 한적한 곳에서 여유를 즐기고 싶은 하루 🌿\n",
            "\n",
            "2. 맛있는 것만 잔뜩 먹고 싶은 하루 🍽️\n",
            "\n",
            "3. 인스타 감성, 힙한 곳에서 인생샷 남기고 싶은 하루 📷\n",
            "\n",
            "4. 알록달록, 아기자기한 곳에서 기분 전환 하고 싶은 하루 🌈\n",
            "\n",
            "5. 진부한 것 말고, 색다른 분위기를 경험하고 싶은 하루 💎\n",
            "\n",
            "6. 연인과 로맨틱한 데이트를 하고 싶은 하루 💝\n",
            "\n",
            "\n"
          ]
        }
      ]
    },
    {
      "cell_type": "code",
      "source": [
        "choice_1= input('번호를 입력해 주세요:')"
      ],
      "metadata": {
        "id": "FjtOTuiq5Tqn",
        "colab": {
          "base_uri": "https://localhost:8080/"
        },
        "outputId": "b6746e15-a70e-45b2-f0e7-6fa686645081"
      },
      "execution_count": null,
      "outputs": [
        {
          "name": "stdout",
          "output_type": "stream",
          "text": [
            "번호를 입력해 주세요:5\n"
          ]
        }
      ]
    },
    {
      "cell_type": "code",
      "source": [
        "choice_1 = int(choice_1)\n",
        "choice_df = cafe_data[cafe_data.mood == choice_1]\n",
        "choice_df = choice_df.reset_index(drop=True)\n",
        "\n",
        "\n",
        "if choice_1 == 1:\n",
        "  choice_1 = '한적한 곳에서 여유를 즐기고 싶은 하루 🌿'\n",
        "elif choice_1 == 2:\n",
        "  choice_1 = '맛있는 것만 잔뜩 먹고 싶은 하루 🍽️'\n",
        "elif choice_1 == 3:\n",
        "  choice_1 = '인스타 감성, 힙한 곳에서 인생샷 남기고 싶은 하루 📷'\n",
        "elif choice_1 == 4:\n",
        "  choice_1 = '알록달록, 아기자기한 곳에서 기분 전환 하고 싶은 하루 🌈'\n",
        "elif choice_1 == 5:\n",
        "  choice_1 = '진부한 것 말고, 색다른 분위기를 경험하고 싶은 하루 💎'\n",
        "elif choice_1 == 6:\n",
        "  choice_1 = '연인과 로맨틱한 데이트를 하고 싶은 하루 💝'\n",
        "\n",
        "\n",
        "print(\"\"\"\n",
        "이런 카페는 어떠세요? 🤔\n",
        "\"\"\")\n",
        "\n",
        "for i in range(0,5):\n",
        "    num=i+1\n",
        "    cafe_name= choice_df['cafe_name'][i][4:]\n",
        "    print(f'{num}. {cafe_name}')"
      ],
      "metadata": {
        "id": "HUrQZ87p5W_a",
        "colab": {
          "base_uri": "https://localhost:8080/"
        },
        "outputId": "41fcbbc6-8eee-4e97-e767-b5e4c72a3b85"
      },
      "execution_count": null,
      "outputs": [
        {
          "output_type": "stream",
          "name": "stdout",
          "text": [
            "\n",
            "이런 카페는 어떠세요? 🤔 \n",
            "\n",
            "1. 오아시스한남점\n",
            "2. KONTEMPORARY1\n",
            "3. 제이엘디저트바\n",
            "4. 아이라이크마운틴\n",
            "5. 보난자커피\n"
          ]
        }
      ]
    },
    {
      "cell_type": "code",
      "source": [
        "choice_2 = input('카페를 선택해주세요: ')"
      ],
      "metadata": {
        "id": "ILwRtBz45bXM",
        "colab": {
          "base_uri": "https://localhost:8080/"
        },
        "outputId": "92e33001-81a9-49dd-a205-75d97c3dd7dc"
      },
      "execution_count": null,
      "outputs": [
        {
          "name": "stdout",
          "output_type": "stream",
          "text": [
            "카페를 선택해주세요: 보난자커피\n"
          ]
        }
      ]
    },
    {
      "cell_type": "code",
      "source": [
        "cafe = cafe[cafe['place'] == choice_2]\n",
        "train_data = pd.concat([cafe, restaurant])\n",
        "train_data = train_data.reset_index(drop=True)"
      ],
      "metadata": {
        "id": "PO1xnNePc2bU"
      },
      "execution_count": null,
      "outputs": []
    },
    {
      "cell_type": "code",
      "source": [
        "corpus = []\n",
        "for words in train_data['cleaned']:\n",
        "  corpus.append(words)\n",
        "\n",
        "\n",
        "# 사전 훈련된 Word2Vec을 다운받아서 이를 초기 단어 벡터값으로 워드 임베딩\n",
        "from gensim.models import Word2Vec\n",
        "word2vec_model = Word2Vec(corpus, size=100, window=5, min_count=5, workers=4, sg=0)\n",
        "\n",
        "\n",
        "# 단어벡터의 평균 구하기\n",
        "def vectors(document_list):\n",
        "    document_embedding_list = []\n",
        "\n",
        "    # 각 문서에 대해서\n",
        "    for line in document_list:\n",
        "        doc2vec = None\n",
        "        count = 0\n",
        "        for word in line:\n",
        "            if word in word2vec_model.wv.vocab:\n",
        "                count += 1\n",
        "                # 해당 문서에 있는 모든 단어들의 벡터값을 더한다.\n",
        "                if doc2vec is None:\n",
        "                    doc2vec = word2vec_model[word]\n",
        "                else:\n",
        "                    doc2vec = doc2vec + word2vec_model[word]\n",
        "\n",
        "        if doc2vec is not None:\n",
        "            # 단어 벡터를 모두 더한 벡터의 값을 문서 길이로 나눠준다.\n",
        "            doc2vec = doc2vec / count\n",
        "            document_embedding_list.append(doc2vec)\n",
        "\n",
        "    # 각 문서에 대한 문서 벡터 리스트를 리턴\n",
        "    return document_embedding_list\n",
        "\n",
        "\n",
        "document_embedding_list = vectors(corpus)\n",
        "\n",
        "# 각 벡터간 코사인 유사도\n",
        "cosine_similarities = cosine_similarity(document_embedding_list, document_embedding_list)\n",
        "print('코사인 유사도 매트릭스의 크기 :',cosine_similarities.shape)"
      ],
      "metadata": {
        "id": "vj7U7sxgoXYC",
        "colab": {
          "base_uri": "https://localhost:8080/"
        },
        "outputId": "eb92bea0-9d4c-41d6-fa58-c1483df4a44b"
      },
      "execution_count": null,
      "outputs": [
        {
          "output_type": "stream",
          "name": "stderr",
          "text": [
            "WARNING:gensim.models.word2vec:Each 'sentences' item should be a list of words (usually unicode strings). First item here is instead plain <class 'str'>.\n",
            "<ipython-input-17-1317c69997bf>:24: DeprecationWarning: Call to deprecated `__getitem__` (Method will be removed in 4.0.0, use self.wv.__getitem__() instead).\n",
            "  doc2vec = word2vec_model[word]\n",
            "<ipython-input-17-1317c69997bf>:26: DeprecationWarning: Call to deprecated `__getitem__` (Method will be removed in 4.0.0, use self.wv.__getitem__() instead).\n",
            "  doc2vec = doc2vec + word2vec_model[word]\n"
          ]
        },
        {
          "output_type": "stream",
          "name": "stdout",
          "text": [
            "코사인 유사도 매트릭스의 크기 : (138, 138)\n"
          ]
        }
      ]
    },
    {
      "cell_type": "code",
      "source": [
        "def recommenatdions(place):\n",
        "    places = train_data[['place']]\n",
        "\n",
        "    # 장소를 입력하면 해당 장소의 인덱스를 리턴받아 idx에 저장.\n",
        "    indices = pd.Series(train_data.index, index = train_data['place']).drop_duplicates()\n",
        "    idx = indices[place]\n",
        "\n",
        "    # 입력된 장소과 리뷰(document embedding)가 유사한 장소 5개 선정.\n",
        "    sim_scores = list(enumerate(cosine_similarities[idx]))\n",
        "    sim_scores = sorted(sim_scores, key = lambda x: x[1], reverse = True)\n",
        "    sim_scores = sim_scores[1:6]\n",
        "\n",
        "    # 가장 유사한 장소 5개의 인덱스\n",
        "    place_indices = [i[0] for i in sim_scores]\n",
        "\n",
        "    # 전체 데이터프레임에서 해당 인덱스의 행만 추출. 5개의 행을 가진다.\n",
        "    recommend = places.iloc[place_indices].reset_index(drop=True)\n",
        "\n",
        "    #print(recommend)\n",
        "    return recommend"
      ],
      "metadata": {
        "id": "ozQo61zivWiM"
      },
      "execution_count": null,
      "outputs": []
    },
    {
      "cell_type": "code",
      "source": [
        "print('식당은 이곳을 추천드려요! 😋')\n",
        "recommend = recommenatdions(choice_2)\n",
        "result = pd.DataFrame(recommend)\n",
        "result.loc[5] = [choice_2]\n",
        "\n",
        "data = pd.merge(result, dist_rate, left_on='place', right_on='place', how='inner')\n",
        "\n",
        "vector = []\n",
        "for i in range(len(data)):\n",
        "    vect = float(data['lon'][i]), float(data['lat'][i])\n",
        "    vector.append(vect)\n",
        "data['vect'] = vector\n",
        "\n",
        "dist=[]\n",
        "for i in range(len(data)):\n",
        "    for k in range(len(data)):\n",
        "        if i < k:\n",
        "            try:\n",
        "                distance = 1 / haversine(data['vect'][i], data['vect'][k], unit='km')\n",
        "            except ZeroDivisionError:\n",
        "                0\n",
        "    dist.append(distance)\n",
        "\n",
        "\n",
        "ssum = []\n",
        "for i in range(5):\n",
        "  distt = 1/(haversine(data['vect'][5], data['vect'][i], unit='km'))\n",
        "  zz = ((distt-4.548656830828885) / 7.539707931416238) + ((data['rate'][i]-4.436814159292034) / 0.16390027988510905)\n",
        "  ssum.append(zz)\n",
        "\n",
        "score = pd.DataFrame({'place': data['place'][0:5], 'score':ssum})\n",
        "score = score.sort_values('score', ascending=False)\n",
        "\n",
        "for i in range(0,5):                                                                                                                        #\n",
        "    num=i+1\n",
        "    place_name= score['place'][i]\n",
        "    print(f'{num}. {place_name}')"
      ],
      "metadata": {
        "id": "A3fJO1AU5D8d",
        "colab": {
          "base_uri": "https://localhost:8080/"
        },
        "outputId": "6ed51b37-6257-4fb1-9d01-66f823ea2d4f"
      },
      "execution_count": null,
      "outputs": [
        {
          "output_type": "stream",
          "name": "stdout",
          "text": [
            "식당은 이곳을 추천드려요! 😋\n",
            "1. 토담집\n",
            "2. 도노\n",
            "3. 리틀넥\n",
            "4. 세컨드키친사운즈\n",
            "5. 파이프그라운드\n"
          ]
        }
      ]
    },
    {
      "cell_type": "code",
      "source": [
        "choice_3 = input('식당을 선택해주세요:')"
      ],
      "metadata": {
        "id": "ghrvMwIa6nkb",
        "colab": {
          "base_uri": "https://localhost:8080/"
        },
        "outputId": "993250e7-1909-4406-e885-219534e4ff51"
      },
      "execution_count": null,
      "outputs": [
        {
          "name": "stdout",
          "output_type": "stream",
          "text": [
            "식당을 선택해주세요:세컨드키친사운즈\n"
          ]
        }
      ]
    },
    {
      "cell_type": "code",
      "source": [
        "restaurant = restaurant[restaurant['place'] == choice_3]\n",
        "train_data = pd.concat([restaurant, alcohol])\n",
        "train_data = train_data.reset_index(drop=True)\n"
      ],
      "metadata": {
        "id": "0TtFbPQwAvYc"
      },
      "execution_count": null,
      "outputs": []
    },
    {
      "cell_type": "code",
      "source": [
        "corpus = []\n",
        "for words in train_data['cleaned']:\n",
        "  corpus.append(words)\n",
        "\n",
        "\n",
        "# 사전 훈련된 Word2Vec을 다운받아서 이를 초기 단어 벡터값으로 워드 임베딩\n",
        "from gensim.models import Word2Vec\n",
        "word2vec_model = Word2Vec(corpus, size=100, window=5, min_count=5, workers=4, sg=0)\n",
        "\n",
        "\n",
        "document_embedding_list = vectors(corpus)\n",
        "\n",
        "# 각 벡터간 코사인 유사도\n",
        "cosine_similarities = cosine_similarity(document_embedding_list, document_embedding_list)"
      ],
      "metadata": {
        "id": "ST4Rjjw4AuOl",
        "colab": {
          "base_uri": "https://localhost:8080/"
        },
        "outputId": "fab2f0c4-d425-48f4-d42a-825ba5e9a679"
      },
      "execution_count": null,
      "outputs": [
        {
          "output_type": "stream",
          "name": "stderr",
          "text": [
            "WARNING:gensim.models.word2vec:Each 'sentences' item should be a list of words (usually unicode strings). First item here is instead plain <class 'str'>.\n",
            "<ipython-input-17-1317c69997bf>:24: DeprecationWarning: Call to deprecated `__getitem__` (Method will be removed in 4.0.0, use self.wv.__getitem__() instead).\n",
            "  doc2vec = word2vec_model[word]\n",
            "<ipython-input-17-1317c69997bf>:26: DeprecationWarning: Call to deprecated `__getitem__` (Method will be removed in 4.0.0, use self.wv.__getitem__() instead).\n",
            "  doc2vec = doc2vec + word2vec_model[word]\n"
          ]
        }
      ]
    },
    {
      "cell_type": "code",
      "source": [
        "def recommenatdions(place):\n",
        "    places = train_data[['place']]\n",
        "\n",
        "    # 장소를 입력하면 해당 장소의 인덱스를 리턴받아 idx에 저장.\n",
        "    indices = pd.Series(train_data.index, index = train_data['place']).drop_duplicates()\n",
        "    idx = indices[place]\n",
        "\n",
        "    # 입력된 장소과 리뷰(document embedding)가 유사한 장소 5개 선정.\n",
        "    sim_scores = list(enumerate(cosine_similarities[idx]))\n",
        "    sim_scores = sorted(sim_scores, key = lambda x: x[1], reverse = True)\n",
        "    sim_scores = sim_scores[1:6]\n",
        "\n",
        "    # 가장 유사한 장소 5개의 인덱스\n",
        "    place_indices = [i[0] for i in sim_scores]\n",
        "\n",
        "    # 전체 데이터프레임에서 해당 인덱스의 행만 추출. 5개의 행을 가진다.\n",
        "    recommend = places.iloc[place_indices].reset_index(drop=True)\n",
        "\n",
        "    #print(recommend)\n",
        "    return recommend"
      ],
      "metadata": {
        "id": "T5KoL6PBx0WC"
      },
      "execution_count": null,
      "outputs": []
    },
    {
      "cell_type": "code",
      "source": [
        "print('술 한 잔까지 하신다면? 💃')\n",
        "recommend = recommenatdions(choice_3)\n",
        "result = pd.DataFrame(recommend)\n",
        "result.loc[5] = [choice_3]\n",
        "\n",
        "data = pd.merge(result, dist_rate, left_on='place', right_on='place', how='inner')\n",
        "\n",
        "vector = []\n",
        "for i in range(len(data)):\n",
        "    vect = float(data['lon'][i]), float(data['lat'][i])\n",
        "    vector.append(vect)\n",
        "data['vect'] = vector\n",
        "\n",
        "dist=[]\n",
        "for i in range(len(data)):\n",
        "    for k in range(len(data)):\n",
        "        if i < k:\n",
        "            try:\n",
        "                distance = 1 / haversine(data['vect'][i], data['vect'][k], unit='km')\n",
        "            except ZeroDivisionError:\n",
        "                0\n",
        "    dist.append(distance)\n",
        "\n",
        "ssum = []\n",
        "for i in range(5):\n",
        "  distt = 1/(haversine(data['vect'][5], data['vect'][i], unit='km'))\n",
        "  zz = ((distt-4.548656830828885) / 7.539707931416238) + ((data['rate'][i]-4.436814159292034) / 0.16390027988510905)\n",
        "  ssum.append(zz)\n",
        "\n",
        "score = pd.DataFrame({'place': data['place'][0:5], 'score':ssum})\n",
        "score = score.sort_values('score', ascending=False)\n",
        "\n",
        "for i in range(0,5):                                                                                                                        #<--- 수정부분\n",
        "    num=i+1\n",
        "    place_name= score['place'][i]\n",
        "    print(f'{num}. {place_name}')"
      ],
      "metadata": {
        "id": "ReNmEQsRCvzN",
        "colab": {
          "base_uri": "https://localhost:8080/"
        },
        "outputId": "258215c3-a079-4e6b-9473-160c050cfaf1"
      },
      "execution_count": null,
      "outputs": [
        {
          "output_type": "stream",
          "name": "stdout",
          "text": [
            "술 한 잔까지 하신다면? 💃\n",
            "1. 쿱한남\n",
            "2. 홉가든한남\n",
            "3. 심퍼티쿠시\n",
            "4. 로프트230\n",
            "5. 뮤땅\n"
          ]
        }
      ]
    },
    {
      "cell_type": "code",
      "source": [
        "choice_4 = input('술집을 선택해주세요:')"
      ],
      "metadata": {
        "id": "eN6f2yc3xnh9",
        "colab": {
          "base_uri": "https://localhost:8080/"
        },
        "outputId": "2cae90d0-1fb1-473a-90b7-63f3e681022b"
      },
      "execution_count": null,
      "outputs": [
        {
          "name": "stdout",
          "output_type": "stream",
          "text": [
            "술집을 선택해주세요:홉가든한남\n"
          ]
        }
      ]
    },
    {
      "cell_type": "code",
      "source": [
        "print(f'''\n",
        "********* 최종 코스 제안 *********\n",
        "{choice_1}, 여기에서 만들어 보시는 건 어떨까요?\n",
        "''')\n",
        "print(choice_2)\n",
        "print(choice_3)\n",
        "print(choice_4)"
      ],
      "metadata": {
        "id": "BSmLO8rMx2UQ",
        "colab": {
          "base_uri": "https://localhost:8080/"
        },
        "outputId": "2c44c85b-e68c-44d3-e21e-d80e6fcf2c6e"
      },
      "execution_count": null,
      "outputs": [
        {
          "output_type": "stream",
          "name": "stdout",
          "text": [
            "\n",
            "********* 최종 코스 제안 *********\n",
            "진부한 것 말고, 색다른 분위기를 경험하고 싶은 하루 💎, 여기에서 만들어 보시는 건 어떨까요?\n",
            "\n",
            "보난자커피\n",
            "세컨드키친사운즈\n",
            "홉가든한남\n"
          ]
        }
      ]
    },
    {
      "cell_type": "code",
      "source": [
        "# 지도 기본 위치 choice_2 카페로 지정\n",
        "target_cafe=cafe_dist[cafe_dist.name == choice_2]\n",
        "target_cafe= target_cafe.drop_duplicates(['name'], keep='first')\n",
        "target_cafe= target_cafe.reset_index()\n",
        "target_cafe_dist=[target_cafe['lon'][0], target_cafe['lat'][0]]"
      ],
      "metadata": {
        "id": "tRAO63GeuFRw"
      },
      "execution_count": null,
      "outputs": []
    },
    {
      "cell_type": "code",
      "source": [
        "dist_rate"
      ],
      "metadata": {
        "id": "_TIOxBZZxQei",
        "colab": {
          "base_uri": "https://localhost:8080/",
          "height": 424
        },
        "outputId": "921b2427-e337-46eb-ed23-f5e2dcb13984"
      },
      "execution_count": null,
      "outputs": [
        {
          "output_type": "execute_result",
          "data": {
            "text/plain": [
              "     Unnamed: 0     place        lon         lat  rate\n",
              "0           0.0        월당  37.536399  127.000807  4.43\n",
              "1           1.0      옛이야기  37.534337  127.008370  4.58\n",
              "2           2.0       고다이  37.534601  127.008774  4.75\n",
              "3           3.0    라멘81번옥  37.530122  127.006502  4.31\n",
              "4           4.0    라멘81번옥  37.537494  127.001358  4.31\n",
              "..          ...       ...        ...         ...   ...\n",
              "222       222.0       레베르  37.536684  127.001437  4.43\n",
              "223       223.0      바스왈로  37.536875  126.999522  4.43\n",
              "224       224.0     히어로도넛  37.532175  126.999890  4.43\n",
              "225       225.0     다원골뱅이  37.532522  127.005848  4.24\n",
              "226       226.0  카페노티드한남점  37.522874  126.984830  4.46\n",
              "\n",
              "[227 rows x 5 columns]"
            ],
            "text/html": [
              "\n",
              "  <div id=\"df-7fd893f9-ad08-4926-8321-4dc9405b46e1\">\n",
              "    <div class=\"colab-df-container\">\n",
              "      <div>\n",
              "<style scoped>\n",
              "    .dataframe tbody tr th:only-of-type {\n",
              "        vertical-align: middle;\n",
              "    }\n",
              "\n",
              "    .dataframe tbody tr th {\n",
              "        vertical-align: top;\n",
              "    }\n",
              "\n",
              "    .dataframe thead th {\n",
              "        text-align: right;\n",
              "    }\n",
              "</style>\n",
              "<table border=\"1\" class=\"dataframe\">\n",
              "  <thead>\n",
              "    <tr style=\"text-align: right;\">\n",
              "      <th></th>\n",
              "      <th>Unnamed: 0</th>\n",
              "      <th>place</th>\n",
              "      <th>lon</th>\n",
              "      <th>lat</th>\n",
              "      <th>rate</th>\n",
              "    </tr>\n",
              "  </thead>\n",
              "  <tbody>\n",
              "    <tr>\n",
              "      <th>0</th>\n",
              "      <td>0.0</td>\n",
              "      <td>월당</td>\n",
              "      <td>37.536399</td>\n",
              "      <td>127.000807</td>\n",
              "      <td>4.43</td>\n",
              "    </tr>\n",
              "    <tr>\n",
              "      <th>1</th>\n",
              "      <td>1.0</td>\n",
              "      <td>옛이야기</td>\n",
              "      <td>37.534337</td>\n",
              "      <td>127.008370</td>\n",
              "      <td>4.58</td>\n",
              "    </tr>\n",
              "    <tr>\n",
              "      <th>2</th>\n",
              "      <td>2.0</td>\n",
              "      <td>고다이</td>\n",
              "      <td>37.534601</td>\n",
              "      <td>127.008774</td>\n",
              "      <td>4.75</td>\n",
              "    </tr>\n",
              "    <tr>\n",
              "      <th>3</th>\n",
              "      <td>3.0</td>\n",
              "      <td>라멘81번옥</td>\n",
              "      <td>37.530122</td>\n",
              "      <td>127.006502</td>\n",
              "      <td>4.31</td>\n",
              "    </tr>\n",
              "    <tr>\n",
              "      <th>4</th>\n",
              "      <td>4.0</td>\n",
              "      <td>라멘81번옥</td>\n",
              "      <td>37.537494</td>\n",
              "      <td>127.001358</td>\n",
              "      <td>4.31</td>\n",
              "    </tr>\n",
              "    <tr>\n",
              "      <th>...</th>\n",
              "      <td>...</td>\n",
              "      <td>...</td>\n",
              "      <td>...</td>\n",
              "      <td>...</td>\n",
              "      <td>...</td>\n",
              "    </tr>\n",
              "    <tr>\n",
              "      <th>222</th>\n",
              "      <td>222.0</td>\n",
              "      <td>레베르</td>\n",
              "      <td>37.536684</td>\n",
              "      <td>127.001437</td>\n",
              "      <td>4.43</td>\n",
              "    </tr>\n",
              "    <tr>\n",
              "      <th>223</th>\n",
              "      <td>223.0</td>\n",
              "      <td>바스왈로</td>\n",
              "      <td>37.536875</td>\n",
              "      <td>126.999522</td>\n",
              "      <td>4.43</td>\n",
              "    </tr>\n",
              "    <tr>\n",
              "      <th>224</th>\n",
              "      <td>224.0</td>\n",
              "      <td>히어로도넛</td>\n",
              "      <td>37.532175</td>\n",
              "      <td>126.999890</td>\n",
              "      <td>4.43</td>\n",
              "    </tr>\n",
              "    <tr>\n",
              "      <th>225</th>\n",
              "      <td>225.0</td>\n",
              "      <td>다원골뱅이</td>\n",
              "      <td>37.532522</td>\n",
              "      <td>127.005848</td>\n",
              "      <td>4.24</td>\n",
              "    </tr>\n",
              "    <tr>\n",
              "      <th>226</th>\n",
              "      <td>226.0</td>\n",
              "      <td>카페노티드한남점</td>\n",
              "      <td>37.522874</td>\n",
              "      <td>126.984830</td>\n",
              "      <td>4.46</td>\n",
              "    </tr>\n",
              "  </tbody>\n",
              "</table>\n",
              "<p>227 rows × 5 columns</p>\n",
              "</div>\n",
              "      <button class=\"colab-df-convert\" onclick=\"convertToInteractive('df-7fd893f9-ad08-4926-8321-4dc9405b46e1')\"\n",
              "              title=\"Convert this dataframe to an interactive table.\"\n",
              "              style=\"display:none;\">\n",
              "        \n",
              "  <svg xmlns=\"http://www.w3.org/2000/svg\" height=\"24px\"viewBox=\"0 0 24 24\"\n",
              "       width=\"24px\">\n",
              "    <path d=\"M0 0h24v24H0V0z\" fill=\"none\"/>\n",
              "    <path d=\"M18.56 5.44l.94 2.06.94-2.06 2.06-.94-2.06-.94-.94-2.06-.94 2.06-2.06.94zm-11 1L8.5 8.5l.94-2.06 2.06-.94-2.06-.94L8.5 2.5l-.94 2.06-2.06.94zm10 10l.94 2.06.94-2.06 2.06-.94-2.06-.94-.94-2.06-.94 2.06-2.06.94z\"/><path d=\"M17.41 7.96l-1.37-1.37c-.4-.4-.92-.59-1.43-.59-.52 0-1.04.2-1.43.59L10.3 9.45l-7.72 7.72c-.78.78-.78 2.05 0 2.83L4 21.41c.39.39.9.59 1.41.59.51 0 1.02-.2 1.41-.59l7.78-7.78 2.81-2.81c.8-.78.8-2.07 0-2.86zM5.41 20L4 18.59l7.72-7.72 1.47 1.35L5.41 20z\"/>\n",
              "  </svg>\n",
              "      </button>\n",
              "      \n",
              "  <style>\n",
              "    .colab-df-container {\n",
              "      display:flex;\n",
              "      flex-wrap:wrap;\n",
              "      gap: 12px;\n",
              "    }\n",
              "\n",
              "    .colab-df-convert {\n",
              "      background-color: #E8F0FE;\n",
              "      border: none;\n",
              "      border-radius: 50%;\n",
              "      cursor: pointer;\n",
              "      display: none;\n",
              "      fill: #1967D2;\n",
              "      height: 32px;\n",
              "      padding: 0 0 0 0;\n",
              "      width: 32px;\n",
              "    }\n",
              "\n",
              "    .colab-df-convert:hover {\n",
              "      background-color: #E2EBFA;\n",
              "      box-shadow: 0px 1px 2px rgba(60, 64, 67, 0.3), 0px 1px 3px 1px rgba(60, 64, 67, 0.15);\n",
              "      fill: #174EA6;\n",
              "    }\n",
              "\n",
              "    [theme=dark] .colab-df-convert {\n",
              "      background-color: #3B4455;\n",
              "      fill: #D2E3FC;\n",
              "    }\n",
              "\n",
              "    [theme=dark] .colab-df-convert:hover {\n",
              "      background-color: #434B5C;\n",
              "      box-shadow: 0px 1px 3px 1px rgba(0, 0, 0, 0.15);\n",
              "      filter: drop-shadow(0px 1px 2px rgba(0, 0, 0, 0.3));\n",
              "      fill: #FFFFFF;\n",
              "    }\n",
              "  </style>\n",
              "\n",
              "      <script>\n",
              "        const buttonEl =\n",
              "          document.querySelector('#df-7fd893f9-ad08-4926-8321-4dc9405b46e1 button.colab-df-convert');\n",
              "        buttonEl.style.display =\n",
              "          google.colab.kernel.accessAllowed ? 'block' : 'none';\n",
              "\n",
              "        async function convertToInteractive(key) {\n",
              "          const element = document.querySelector('#df-7fd893f9-ad08-4926-8321-4dc9405b46e1');\n",
              "          const dataTable =\n",
              "            await google.colab.kernel.invokeFunction('convertToInteractive',\n",
              "                                                     [key], {});\n",
              "          if (!dataTable) return;\n",
              "\n",
              "          const docLinkHtml = 'Like what you see? Visit the ' +\n",
              "            '<a target=\"_blank\" href=https://colab.research.google.com/notebooks/data_table.ipynb>data table notebook</a>'\n",
              "            + ' to learn more about interactive tables.';\n",
              "          element.innerHTML = '';\n",
              "          dataTable['output_type'] = 'display_data';\n",
              "          await google.colab.output.renderOutput(dataTable, element);\n",
              "          const docLink = document.createElement('div');\n",
              "          docLink.innerHTML = docLinkHtml;\n",
              "          element.appendChild(docLink);\n",
              "        }\n",
              "      </script>\n",
              "    </div>\n",
              "  </div>\n",
              "  "
            ]
          },
          "metadata": {},
          "execution_count": 28
        }
      ]
    },
    {
      "cell_type": "code",
      "source": [
        "# 레스토랑 좌표 생성\n",
        "target_rest= dist_rate[dist_rate.place == choice_3]\n",
        "target_rest= target_rest.drop_duplicates(['place'], keep='first')\n",
        "target_rest= target_rest.reset_index()\n",
        "target_rest_dist=[target_rest['lon'][0], target_rest['lat'][0]]\n",
        "\n",
        "# 술집 좌표 생성\n",
        "target_al= dist_rate[dist_rate.place == choice_4]\n",
        "target_al= target_al.drop_duplicates(['place'], keep='first')\n",
        "target_al= target_al.reset_index()\n",
        "target_al_dist=[target_al['lon'][0], target_al['lat'][0]]"
      ],
      "metadata": {
        "id": "eZL3WSTTxTzG"
      },
      "execution_count": null,
      "outputs": []
    },
    {
      "cell_type": "code",
      "source": [
        "# 지도 생성\n",
        "m = folium.Map(\n",
        "    location = target_cafe_dist,\n",
        "    zoom_start = 17\n",
        ")\n",
        "\n",
        "# 지도에 마커 찍기\n",
        "marker1= folium.Marker(\n",
        "    location = target_cafe_dist,\n",
        "    tooltip= choice_2,\n",
        "    icon = folium.Icon(\n",
        "    \tcolor = 'blue',\n",
        "      icon = 'coffee',\n",
        "      prefix='fa')\n",
        ").add_to(m)\n",
        "\n",
        "marker2=folium.Marker(\n",
        "    location = target_rest_dist,\n",
        "    tooltip= choice_3,\n",
        "    icon = folium.Icon(\n",
        "    \tcolor = 'red',\n",
        "      icon = 'cutlery',\n",
        "      prefix= 'glyphicon')\n",
        ").add_to(m)\n",
        "\n",
        "marker3=folium.Marker(\n",
        "    location = target_al_dist,\n",
        "    tooltip= choice_4,\n",
        "    icon = folium.Icon(\n",
        "    \tcolor = 'black',\n",
        "      icon = 'beer',\n",
        "      prefix='fa')\n",
        ").add_to(m)\n",
        "\n",
        "marker1.add_to(m)\n",
        "marker2.add_to(m)\n",
        "marker3.add_to(m)\n",
        "\n",
        "m # 지도 시각화"
      ],
      "metadata": {
        "id": "TjaD7IKowDRN",
        "colab": {
          "base_uri": "https://localhost:8080/",
          "height": 915
        },
        "outputId": "6e5e4fe3-cff2-423b-d3ff-be89d6a910e0"
      },
      "execution_count": null,
      "outputs": [
        {
          "output_type": "execute_result",
          "data": {
            "text/plain": [
              "<folium.folium.Map at 0x7f0ffaadb760>"
            ],
            "text/html": [
              "<div style=\"width:100%;\"><div style=\"position:relative;width:100%;height:0;padding-bottom:60%;\"><span style=\"color:#565656\">Make this Notebook Trusted to load map: File -> Trust Notebook</span><iframe srcdoc=\"&lt;!DOCTYPE html&gt;\n",
              "&lt;html&gt;\n",
              "&lt;head&gt;\n",
              "    \n",
              "    &lt;meta http-equiv=&quot;content-type&quot; content=&quot;text/html; charset=UTF-8&quot; /&gt;\n",
              "    \n",
              "        &lt;script&gt;\n",
              "            L_NO_TOUCH = false;\n",
              "            L_DISABLE_3D = false;\n",
              "        &lt;/script&gt;\n",
              "    \n",
              "    &lt;style&gt;html, body {width: 100%;height: 100%;margin: 0;padding: 0;}&lt;/style&gt;\n",
              "    &lt;style&gt;#map {position:absolute;top:0;bottom:0;right:0;left:0;}&lt;/style&gt;\n",
              "    &lt;script src=&quot;https://cdn.jsdelivr.net/npm/leaflet@1.6.0/dist/leaflet.js&quot;&gt;&lt;/script&gt;\n",
              "    &lt;script src=&quot;https://code.jquery.com/jquery-1.12.4.min.js&quot;&gt;&lt;/script&gt;\n",
              "    &lt;script src=&quot;https://maxcdn.bootstrapcdn.com/bootstrap/3.2.0/js/bootstrap.min.js&quot;&gt;&lt;/script&gt;\n",
              "    &lt;script src=&quot;https://cdnjs.cloudflare.com/ajax/libs/Leaflet.awesome-markers/2.0.2/leaflet.awesome-markers.js&quot;&gt;&lt;/script&gt;\n",
              "    &lt;link rel=&quot;stylesheet&quot; href=&quot;https://cdn.jsdelivr.net/npm/leaflet@1.6.0/dist/leaflet.css&quot;/&gt;\n",
              "    &lt;link rel=&quot;stylesheet&quot; href=&quot;https://maxcdn.bootstrapcdn.com/bootstrap/3.2.0/css/bootstrap.min.css&quot;/&gt;\n",
              "    &lt;link rel=&quot;stylesheet&quot; href=&quot;https://maxcdn.bootstrapcdn.com/bootstrap/3.2.0/css/bootstrap-theme.min.css&quot;/&gt;\n",
              "    &lt;link rel=&quot;stylesheet&quot; href=&quot;https://maxcdn.bootstrapcdn.com/font-awesome/4.6.3/css/font-awesome.min.css&quot;/&gt;\n",
              "    &lt;link rel=&quot;stylesheet&quot; href=&quot;https://cdnjs.cloudflare.com/ajax/libs/Leaflet.awesome-markers/2.0.2/leaflet.awesome-markers.css&quot;/&gt;\n",
              "    &lt;link rel=&quot;stylesheet&quot; href=&quot;https://cdn.jsdelivr.net/gh/python-visualization/folium/folium/templates/leaflet.awesome.rotate.min.css&quot;/&gt;\n",
              "    \n",
              "            &lt;meta name=&quot;viewport&quot; content=&quot;width=device-width,\n",
              "                initial-scale=1.0, maximum-scale=1.0, user-scalable=no&quot; /&gt;\n",
              "            &lt;style&gt;\n",
              "                #map_20f7e6a9da1d78c946fd81537729f985 {\n",
              "                    position: relative;\n",
              "                    width: 100.0%;\n",
              "                    height: 100.0%;\n",
              "                    left: 0.0%;\n",
              "                    top: 0.0%;\n",
              "                }\n",
              "            &lt;/style&gt;\n",
              "        \n",
              "&lt;/head&gt;\n",
              "&lt;body&gt;\n",
              "    \n",
              "    \n",
              "            &lt;div class=&quot;folium-map&quot; id=&quot;map_20f7e6a9da1d78c946fd81537729f985&quot; &gt;&lt;/div&gt;\n",
              "        \n",
              "&lt;/body&gt;\n",
              "&lt;script&gt;\n",
              "    \n",
              "    \n",
              "            var map_20f7e6a9da1d78c946fd81537729f985 = L.map(\n",
              "                &quot;map_20f7e6a9da1d78c946fd81537729f985&quot;,\n",
              "                {\n",
              "                    center: [37.5371233805831, 126.999043173573],\n",
              "                    crs: L.CRS.EPSG3857,\n",
              "                    zoom: 17,\n",
              "                    zoomControl: true,\n",
              "                    preferCanvas: false,\n",
              "                }\n",
              "            );\n",
              "\n",
              "            \n",
              "\n",
              "        \n",
              "    \n",
              "            var tile_layer_3e4a75c4d9d8e38675cd24b333f4584f = L.tileLayer(\n",
              "                &quot;https://{s}.tile.openstreetmap.org/{z}/{x}/{y}.png&quot;,\n",
              "                {&quot;attribution&quot;: &quot;Data by \\u0026copy; \\u003ca href=\\&quot;http://openstreetmap.org\\&quot;\\u003eOpenStreetMap\\u003c/a\\u003e, under \\u003ca href=\\&quot;http://www.openstreetmap.org/copyright\\&quot;\\u003eODbL\\u003c/a\\u003e.&quot;, &quot;detectRetina&quot;: false, &quot;maxNativeZoom&quot;: 18, &quot;maxZoom&quot;: 18, &quot;minZoom&quot;: 0, &quot;noWrap&quot;: false, &quot;opacity&quot;: 1, &quot;subdomains&quot;: &quot;abc&quot;, &quot;tms&quot;: false}\n",
              "            ).addTo(map_20f7e6a9da1d78c946fd81537729f985);\n",
              "        \n",
              "    \n",
              "            var marker_34862c26c930feecc52f2408c352b4a9 = L.marker(\n",
              "                [37.5371233805831, 126.999043173573],\n",
              "                {}\n",
              "            ).addTo(map_20f7e6a9da1d78c946fd81537729f985);\n",
              "        \n",
              "    \n",
              "            var icon_35294be0c908014b39bd8669b895f30f = L.AwesomeMarkers.icon(\n",
              "                {&quot;extraClasses&quot;: &quot;fa-rotate-0&quot;, &quot;icon&quot;: &quot;coffee&quot;, &quot;iconColor&quot;: &quot;white&quot;, &quot;markerColor&quot;: &quot;blue&quot;, &quot;prefix&quot;: &quot;fa&quot;}\n",
              "            );\n",
              "            marker_34862c26c930feecc52f2408c352b4a9.setIcon(icon_35294be0c908014b39bd8669b895f30f);\n",
              "        \n",
              "    \n",
              "            marker_34862c26c930feecc52f2408c352b4a9.bindTooltip(\n",
              "                `&lt;div&gt;\n",
              "                     보난자커피\n",
              "                 &lt;/div&gt;`,\n",
              "                {&quot;sticky&quot;: true}\n",
              "            );\n",
              "        \n",
              "    \n",
              "            var marker_9db4f8966d4bbde460570f759d3123fc = L.marker(\n",
              "                [37.5340036887058, 127.001992745526],\n",
              "                {}\n",
              "            ).addTo(map_20f7e6a9da1d78c946fd81537729f985);\n",
              "        \n",
              "    \n",
              "            var icon_5da5504d74e99005a072b9f52139c7eb = L.AwesomeMarkers.icon(\n",
              "                {&quot;extraClasses&quot;: &quot;fa-rotate-0&quot;, &quot;icon&quot;: &quot;cutlery&quot;, &quot;iconColor&quot;: &quot;white&quot;, &quot;markerColor&quot;: &quot;red&quot;, &quot;prefix&quot;: &quot;glyphicon&quot;}\n",
              "            );\n",
              "            marker_9db4f8966d4bbde460570f759d3123fc.setIcon(icon_5da5504d74e99005a072b9f52139c7eb);\n",
              "        \n",
              "    \n",
              "            marker_9db4f8966d4bbde460570f759d3123fc.bindTooltip(\n",
              "                `&lt;div&gt;\n",
              "                     세컨드키친사운즈\n",
              "                 &lt;/div&gt;`,\n",
              "                {&quot;sticky&quot;: true}\n",
              "            );\n",
              "        \n",
              "    \n",
              "            var marker_f73814b8e9f6d96e869e4b3a126f9da1 = L.marker(\n",
              "                [37.5371372604335, 127.001747310918],\n",
              "                {}\n",
              "            ).addTo(map_20f7e6a9da1d78c946fd81537729f985);\n",
              "        \n",
              "    \n",
              "            var icon_06cf9d68770bca2a7d4ddf7e8d1159f6 = L.AwesomeMarkers.icon(\n",
              "                {&quot;extraClasses&quot;: &quot;fa-rotate-0&quot;, &quot;icon&quot;: &quot;beer&quot;, &quot;iconColor&quot;: &quot;white&quot;, &quot;markerColor&quot;: &quot;black&quot;, &quot;prefix&quot;: &quot;fa&quot;}\n",
              "            );\n",
              "            marker_f73814b8e9f6d96e869e4b3a126f9da1.setIcon(icon_06cf9d68770bca2a7d4ddf7e8d1159f6);\n",
              "        \n",
              "    \n",
              "            marker_f73814b8e9f6d96e869e4b3a126f9da1.bindTooltip(\n",
              "                `&lt;div&gt;\n",
              "                     홉가든한남\n",
              "                 &lt;/div&gt;`,\n",
              "                {&quot;sticky&quot;: true}\n",
              "            );\n",
              "        \n",
              "&lt;/script&gt;\n",
              "&lt;/html&gt;\" style=\"position:absolute;width:100%;height:100%;left:0;top:0;border:none !important;\" allowfullscreen webkitallowfullscreen mozallowfullscreen></iframe></div></div>"
            ]
          },
          "metadata": {},
          "execution_count": 30
        }
      ]
    }
  ],
  "metadata": {
    "colab": {
      "provenance": []
    },
    "kernelspec": {
      "display_name": "Python 3",
      "name": "python3"
    },
    "language_info": {
      "name": "python"
    }
  },
  "nbformat": 4,
  "nbformat_minor": 0
}